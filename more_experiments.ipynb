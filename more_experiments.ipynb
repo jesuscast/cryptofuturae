{
 "cells": [
  {
   "cell_type": "code",
   "execution_count": 2,
   "metadata": {},
   "outputs": [],
   "source": [
    "import json\n",
    "stocks  = {}\n",
    "with open(\"sectors.json\", \"r\") as f:\n",
    "    stocks = json.load(f)"
   ]
  },
  {
   "cell_type": "code",
   "execution_count": 15,
   "metadata": {},
   "outputs": [],
   "source": [
    "usef_sectors = [ \n",
    "    n for n in stocks.keys() \n",
    "    if (\n",
    "        \"tech\" in n.lower() \n",
    "        or \"compu\" in n.lower()\n",
    "        or \"semi\" in n.lower())\n",
    "]\n",
    "def find_sector_of(target_stock):\n",
    "    sector = None\n",
    "    for sector_i in stocks:\n",
    "        if target_stock in stocks[sector_i]:\n",
    "            sector = sector_i\n",
    "            break\n",
    "    return sector\n",
    "\n",
    "# find_sector_of(\"NVDA\")\n",
    "# find_sector_of(\"AMD\")"
   ]
  },
  {
   "cell_type": "code",
   "execution_count": 18,
   "metadata": {},
   "outputs": [
    {
     "data": {
      "text/plain": [
       "['b']"
      ]
     },
     "execution_count": 18,
     "metadata": {},
     "output_type": "execute_result"
    }
   ],
   "source": [
    "a"
   ]
  }
 ],
 "metadata": {
  "kernelspec": {
   "display_name": "Python 3",
   "language": "python",
   "name": "python3"
  },
  "language_info": {
   "codemirror_mode": {
    "name": "ipython",
    "version": 2
   },
   "file_extension": ".py",
   "mimetype": "text/x-python",
   "name": "python",
   "nbconvert_exporter": "python",
   "pygments_lexer": "ipython2",
   "version": "2.7.13"
  }
 },
 "nbformat": 4,
 "nbformat_minor": 2
}
